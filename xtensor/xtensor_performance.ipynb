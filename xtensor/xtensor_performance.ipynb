{
 "cells": [
  {
   "cell_type": "markdown",
   "metadata": {},
   "source": [
    "# xtensor performance\n",
    "\n",
    "Example calls taken from https://xtensor.readthedocs.io/en/latest/numpy.html"
   ]
  },
  {
   "cell_type": "code",
   "execution_count": 1,
   "metadata": {},
   "outputs": [],
   "source": [
    "#include <iostream>\n",
    "#include \"xtensor/xarray.hpp\"\n",
    "#include \"xtensor/xio.hpp\"\n",
    "#include \"xtensor/xview.hpp\"\n",
    "#include \"xtensor/xrandom.hpp\"\n",
    "#include \"xtensor-blas/xlinalg.hpp\"\n",
    "#include \"xtensor/xfixed.hpp\""
   ]
  },
  {
   "cell_type": "code",
   "execution_count": 2,
   "metadata": {},
   "outputs": [],
   "source": [
    "auto arr = xt::random::rand<double>({512, 512});\n",
    "auto arr2 = xt::random::rand<double>({512, 512});"
   ]
  },
  {
   "cell_type": "markdown",
   "metadata": {},
   "source": [
    "## Matrix, vector and tensor products"
   ]
  },
  {
   "cell_type": "code",
   "execution_count": 3,
   "metadata": {},
   "outputs": [
    {
     "name": "stdout",
     "output_type": "stream",
     "text": [
      "24.5 ms +- 564 us per loop (mean +- std. dev. of 7 runs 10 loops each)\n"
     ]
    }
   ],
   "source": [
    "%timeit xt::linalg::dot(arr, arr2);"
   ]
  },
  {
   "cell_type": "code",
   "execution_count": 4,
   "metadata": {},
   "outputs": [
    {
     "name": "stdout",
     "output_type": "stream",
     "text": [
      "21.9 ms +- 30.8 us per loop (mean +- std. dev. of 7 runs 10 loops each)\n"
     ]
    }
   ],
   "source": [
    "%timeit xt::linalg::vdot(arr, arr2);"
   ]
  },
  {
   "cell_type": "code",
   "execution_count": 5,
   "metadata": {},
   "outputs": [
    {
     "name": "stdout",
     "output_type": "stream",
     "text": [
      "222 ms +- 516 us per loop (mean +- std. dev. of 7 runs 1 loop each)\n"
     ]
    }
   ],
   "source": [
    "%timeit xt::linalg::outer(arr, arr2);"
   ]
  },
  {
   "cell_type": "code",
   "execution_count": 6,
   "metadata": {},
   "outputs": [
    {
     "name": "stdout",
     "output_type": "stream",
     "text": [
      "2.41 s +- 1.98 ms per loop (mean +- std. dev. of 7 runs 1 loop each)\n"
     ]
    }
   ],
   "source": [
    "%timeit xt::linalg::matrix_power(arr, 10);"
   ]
  },
  {
   "cell_type": "code",
   "execution_count": 7,
   "metadata": {},
   "outputs": [],
   "source": [
    "//%timeit xt::linalg::kron(arr, arr2);"
   ]
  },
  {
   "cell_type": "code",
   "execution_count": 8,
   "metadata": {},
   "outputs": [
    {
     "name": "stdout",
     "output_type": "stream",
     "text": [
      "815 ms +- 1.38 ms per loop (mean +- std. dev. of 7 runs 1 loop each)\n"
     ]
    }
   ],
   "source": [
    "%timeit xt::linalg::tensordot(arr, arr2, 2);"
   ]
  },
  {
   "cell_type": "markdown",
   "metadata": {},
   "source": [
    "## Decompositions"
   ]
  },
  {
   "cell_type": "code",
   "execution_count": 9,
   "metadata": {},
   "outputs": [],
   "source": [
    "%timeit xt::linalg::cholesky(arr);"
   ]
  },
  {
   "cell_type": "code",
   "execution_count": 10,
   "metadata": {},
   "outputs": [
    {
     "name": "stdout",
     "output_type": "stream",
     "text": [
      "1.62 s +- 3.7 ms per loop (mean +- std. dev. of 7 runs 1 loop each)\n"
     ]
    }
   ],
   "source": [
    "%timeit xt::linalg::qr(arr);"
   ]
  },
  {
   "cell_type": "code",
   "execution_count": 11,
   "metadata": {},
   "outputs": [
    {
     "name": "stdout",
     "output_type": "stream",
     "text": [
      "1.66 s +- 7.95 ms per loop (mean +- std. dev. of 7 runs 1 loop each)\n"
     ]
    }
   ],
   "source": [
    "%timeit xt::linalg::svd(arr);"
   ]
  },
  {
   "cell_type": "markdown",
   "metadata": {},
   "source": [
    "## Matrix eigenvalues"
   ]
  },
  {
   "cell_type": "code",
   "execution_count": 12,
   "metadata": {},
   "outputs": [
    {
     "name": "stdout",
     "output_type": "stream",
     "text": [
      "1.06 s +- 6.08 ms per loop (mean +- std. dev. of 7 runs 1 loop each)\n"
     ]
    }
   ],
   "source": [
    "%timeit xt::linalg::eig(arr);"
   ]
  },
  {
   "cell_type": "code",
   "execution_count": 13,
   "metadata": {},
   "outputs": [
    {
     "name": "stdout",
     "output_type": "stream",
     "text": [
      "200 ms +- 4.69 ms per loop (mean +- std. dev. of 7 runs 1 loop each)\n"
     ]
    }
   ],
   "source": [
    "%timeit xt::linalg::eigvals(arr);"
   ]
  },
  {
   "cell_type": "code",
   "execution_count": 14,
   "metadata": {},
   "outputs": [
    {
     "name": "stdout",
     "output_type": "stream",
     "text": [
      "439 ms +- 1.66 ms per loop (mean +- std. dev. of 7 runs 1 loop each)\n"
     ]
    }
   ],
   "source": [
    "%timeit xt::linalg::eigh(arr);"
   ]
  },
  {
   "cell_type": "code",
   "execution_count": 15,
   "metadata": {},
   "outputs": [
    {
     "name": "stdout",
     "output_type": "stream",
     "text": [
      "29.2 ms +- 501 us per loop (mean +- std. dev. of 7 runs 10 loops each)\n"
     ]
    }
   ],
   "source": [
    "%timeit xt::linalg::eigvalsh(arr);"
   ]
  },
  {
   "cell_type": "markdown",
   "metadata": {},
   "source": [
    "## Norms and other numbers"
   ]
  },
  {
   "cell_type": "code",
   "execution_count": 16,
   "metadata": {},
   "outputs": [
    {
     "name": "stdout",
     "output_type": "stream",
     "text": [
      "42.5 ms +- 569 us per loop (mean +- std. dev. of 7 runs 10 loops each)\n"
     ]
    }
   ],
   "source": [
    "%timeit xt::linalg::norm(arr, 2);"
   ]
  },
  {
   "cell_type": "code",
   "execution_count": 17,
   "metadata": {},
   "outputs": [
    {
     "name": "stderr",
     "output_type": "stream",
     "text": [
      "\u001b[1minput_line_111:4:5: \u001b[0m\u001b[0;1;31merror: \u001b[0m\u001b[1mno matching function for call to 'cond'\u001b[0m\n",
      "    xt::linalg::cond(arr);\n",
      "\u001b[0;1;32m    ^~~~~~~~~~~~~~~~\n",
      "\u001b[0m\u001b[1m/usr/local/anaconda3/envs/py3.6/include/xtensor-blas/xlinalg.hpp:274:10: \u001b[0m\u001b[0;1;30mnote: \u001b[0mcandidate function template not viable:\n",
      "      requires 2 arguments, but 1 was\n",
      "      provided\u001b[0m\n",
      "    auto cond(const xexpression<...\n",
      "\u001b[0;1;32m         ^\n",
      "\u001b[0m\u001b[1m/usr/local/anaconda3/envs/py3.6/include/xtensor-blas/xlinalg.hpp:280:10: \u001b[0m\u001b[0;1;30mnote: \u001b[0mcandidate function template not viable:\n",
      "      requires 2 arguments, but 1 was\n",
      "      provided\u001b[0m\n",
      "    auto cond(const xexpression<...\n",
      "\u001b[0;1;32m         ^\n",
      "\u001b[0m\u001b[1minput_line_112:4:5: \u001b[0m\u001b[0;1;31merror: \u001b[0m\u001b[1mno matching function for call to 'cond'\u001b[0m\n",
      "    xt::linalg::cond(arr);\n",
      "\u001b[0;1;32m    ^~~~~~~~~~~~~~~~\n",
      "\u001b[0m\u001b[1m/usr/local/anaconda3/envs/py3.6/include/xtensor-blas/xlinalg.hpp:274:10: \u001b[0m\u001b[0;1;30mnote: \u001b[0mcandidate function template not viable:\n",
      "      requires 2 arguments, but 1 was\n",
      "      provided\u001b[0m\n",
      "    auto cond(const xexpression<...\n",
      "\u001b[0;1;32m         ^\n",
      "\u001b[0m\u001b[1m/usr/local/anaconda3/envs/py3.6/include/xtensor-blas/xlinalg.hpp:280:10: \u001b[0m\u001b[0;1;30mnote: \u001b[0mcandidate function template not viable:\n",
      "      requires 2 arguments, but 1 was\n",
      "      provided\u001b[0m\n",
      "    auto cond(const xexpression<...\n",
      "\u001b[0;1;32m         ^\n",
      "\u001b[0m\u001b[1minput_line_113:4:5: \u001b[0m\u001b[0;1;31merror: \u001b[0m\u001b[1mno matching function for call to 'cond'\u001b[0m\n",
      "    xt::linalg::cond(arr);\n",
      "\u001b[0;1;32m    ^~~~~~~~~~~~~~~~\n",
      "\u001b[0m\u001b[1m/usr/local/anaconda3/envs/py3.6/include/xtensor-blas/xlinalg.hpp:274:10: \u001b[0m\u001b[0;1;30mnote: \u001b[0mcandidate function template not viable:\n",
      "      requires 2 arguments, but 1 was\n",
      "      provided\u001b[0m\n",
      "    auto cond(const xexpression<...\n",
      "\u001b[0;1;32m         ^\n",
      "\u001b[0m\u001b[1m/usr/local/anaconda3/envs/py3.6/include/xtensor-blas/xlinalg.hpp:280:10: \u001b[0m\u001b[0;1;30mnote: \u001b[0mcandidate function template not viable:\n",
      "      requires 2 arguments, but 1 was\n",
      "      provided\u001b[0m\n",
      "    auto cond(const xexpression<...\n",
      "\u001b[0;1;32m         ^\n",
      "\u001b[0m\u001b[1minput_line_114:4:5: \u001b[0m\u001b[0;1;31merror: \u001b[0m\u001b[1mno matching function for call to 'cond'\u001b[0m\n",
      "    xt::linalg::cond(arr);\n",
      "\u001b[0;1;32m    ^~~~~~~~~~~~~~~~\n",
      "\u001b[0m\u001b[1m/usr/local/anaconda3/envs/py3.6/include/xtensor-blas/xlinalg.hpp:274:10: \u001b[0m\u001b[0;1;30mnote: \u001b[0mcandidate function template not viable:\n",
      "      requires 2 arguments, but 1 was\n",
      "      provided\u001b[0m\n",
      "    auto cond(const xexpression<...\n",
      "\u001b[0;1;32m         ^\n",
      "\u001b[0m\u001b[1m/usr/local/anaconda3/envs/py3.6/include/xtensor-blas/xlinalg.hpp:280:10: \u001b[0m\u001b[0;1;30mnote: \u001b[0mcandidate function template not viable:\n",
      "      requires 2 arguments, but 1 was\n",
      "      provided\u001b[0m\n",
      "    auto cond(const xexpression<...\n",
      "\u001b[0;1;32m         ^\n",
      "\u001b[0m\u001b[1minput_line_115:4:5: \u001b[0m\u001b[0;1;31merror: \u001b[0m\u001b[1mno matching function for call to 'cond'\u001b[0m\n",
      "    xt::linalg::cond(arr);\n",
      "\u001b[0;1;32m    ^~~~~~~~~~~~~~~~\n",
      "\u001b[0m\u001b[1m/usr/local/anaconda3/envs/py3.6/include/xtensor-blas/xlinalg.hpp:274:10: \u001b[0m\u001b[0;1;30mnote: \u001b[0mcandidate function template not viable:\n",
      "      requires 2 arguments, but 1 was\n",
      "      provided\u001b[0m\n",
      "    auto cond(const xexpression<...\n",
      "\u001b[0;1;32m         ^\n",
      "\u001b[0m\u001b[1m/usr/local/anaconda3/envs/py3.6/include/xtensor-blas/xlinalg.hpp:280:10: \u001b[0m\u001b[0;1;30mnote: \u001b[0mcandidate function template not viable:\n",
      "      requires 2 arguments, but 1 was\n",
      "      provided\u001b[0m\n",
      "    auto cond(const xexpression<...\n",
      "\u001b[0;1;32m         ^\n",
      "\u001b[0m\u001b[1minput_line_116:4:5: \u001b[0m\u001b[0;1;31merror: \u001b[0m\u001b[1mno matching function for call to 'cond'\u001b[0m\n",
      "    xt::linalg::cond(arr);\n",
      "\u001b[0;1;32m    ^~~~~~~~~~~~~~~~\n",
      "\u001b[0m\u001b[1m/usr/local/anaconda3/envs/py3.6/include/xtensor-blas/xlinalg.hpp:274:10: \u001b[0m\u001b[0;1;30mnote: \u001b[0mcandidate function template not viable:\n",
      "      requires 2 arguments, but 1 was\n",
      "      provided\u001b[0m\n",
      "    auto cond(const xexpression<...\n",
      "\u001b[0;1;32m         ^\n",
      "\u001b[0m\u001b[1m/usr/local/anaconda3/envs/py3.6/include/xtensor-blas/xlinalg.hpp:280:10: \u001b[0m\u001b[0;1;30mnote: \u001b[0mcandidate function template not viable:\n",
      "      requires 2 arguments, but 1 was\n",
      "      provided\u001b[0m\n",
      "    auto cond(const xexpression<...\n",
      "\u001b[0;1;32m         ^\n",
      "\u001b[0m\u001b[1minput_line_117:4:5: \u001b[0m\u001b[0;1;31merror: \u001b[0m\u001b[1mno matching function for call to 'cond'\u001b[0m\n",
      "    xt::linalg::cond(arr);\n",
      "\u001b[0;1;32m    ^~~~~~~~~~~~~~~~\n",
      "\u001b[0m\u001b[1m/usr/local/anaconda3/envs/py3.6/include/xtensor-blas/xlinalg.hpp:274:10: \u001b[0m\u001b[0;1;30mnote: \u001b[0mcandidate function template not viable:\n",
      "      requires 2 arguments, but 1 was\n",
      "      provided\u001b[0m\n",
      "    auto cond(const xexpression<...\n",
      "\u001b[0;1;32m         ^\n",
      "\u001b[0m\u001b[1m/usr/local/anaconda3/envs/py3.6/include/xtensor-blas/xlinalg.hpp:280:10: \u001b[0m\u001b[0;1;30mnote: \u001b[0mcandidate function template not viable:\n",
      "      requires 2 arguments, but 1 was\n",
      "      provided\u001b[0m\n",
      "    auto cond(const xexpression<...\n",
      "\u001b[0;1;32m         ^\n",
      "\u001b[0m\u001b[1minput_line_118:4:5: \u001b[0m\u001b[0;1;31merror: \u001b[0m\u001b[1mno matching function for call to 'cond'\u001b[0m\n",
      "    xt::linalg::cond(arr);\n",
      "\u001b[0;1;32m    ^~~~~~~~~~~~~~~~\n",
      "\u001b[0m\u001b[1m/usr/local/anaconda3/envs/py3.6/include/xtensor-blas/xlinalg.hpp:274:10: \u001b[0m\u001b[0;1;30mnote: \u001b[0mcandidate function template not viable:\n",
      "      requires 2 arguments, but 1 was\n",
      "      provided\u001b[0m\n",
      "    auto cond(const xexpression<...\n",
      "\u001b[0;1;32m         ^\n",
      "\u001b[0m\u001b[1m/usr/local/anaconda3/envs/py3.6/include/xtensor-blas/xlinalg.hpp:280:10: \u001b[0m\u001b[0;1;30mnote: \u001b[0mcandidate function template not viable:\n",
      "      requires 2 arguments, but 1 was\n",
      "      provided\u001b[0m\n",
      "    auto cond(const xexpression<...\n",
      "\u001b[0;1;32m         ^\n",
      "\u001b[0m\u001b[1minput_line_119:4:5: \u001b[0m\u001b[0;1;31merror: \u001b[0m\u001b[1mno matching function for call to 'cond'\u001b[0m\n",
      "    xt::linalg::cond(arr);\n",
      "\u001b[0;1;32m    ^~~~~~~~~~~~~~~~\n",
      "\u001b[0m\u001b[1m/usr/local/anaconda3/envs/py3.6/include/xtensor-blas/xlinalg.hpp:274:10: \u001b[0m\u001b[0;1;30mnote: \u001b[0mcandidate function template not viable:\n",
      "      requires 2 arguments, but 1 was\n",
      "      provided\u001b[0m\n",
      "    auto cond(const xexpression<...\n",
      "\u001b[0;1;32m         ^\n",
      "\u001b[0m\u001b[1m/usr/local/anaconda3/envs/py3.6/include/xtensor-blas/xlinalg.hpp:280:10: \u001b[0m\u001b[0;1;30mnote: \u001b[0mcandidate function template not viable:\n",
      "      requires 2 arguments, but 1 was\n",
      "      provided\u001b[0m\n",
      "    auto cond(const xexpression<...\n",
      "\u001b[0;1;32m         ^\n",
      "\u001b[0m\u001b[1minput_line_120:4:5: \u001b[0m\u001b[0;1;31merror: \u001b[0m\u001b[1mno matching function for call to 'cond'\u001b[0m\n",
      "    xt::linalg::cond(arr);\n",
      "\u001b[0;1;32m    ^~~~~~~~~~~~~~~~\n",
      "\u001b[0m\u001b[1m/usr/local/anaconda3/envs/py3.6/include/xtensor-blas/xlinalg.hpp:274:10: \u001b[0m\u001b[0;1;30mnote: \u001b[0mcandidate function template not viable:\n",
      "      requires 2 arguments, but 1 was\n",
      "      provided\u001b[0m\n",
      "    auto cond(const xexpression<...\n",
      "\u001b[0;1;32m         ^\n",
      "\u001b[0m\u001b[1m/usr/local/anaconda3/envs/py3.6/include/xtensor-blas/xlinalg.hpp:280:10: \u001b[0m\u001b[0;1;30mnote: \u001b[0mcandidate function template not viable:\n",
      "      requires 2 arguments, but 1 was\n",
      "      provided\u001b[0m\n",
      "    auto cond(const xexpression<...\n",
      "\u001b[0;1;32m         ^\n",
      "\u001b[0m\u001b[1minput_line_121:4:5: \u001b[0m\u001b[0;1;31merror: \u001b[0m\u001b[1mno matching function for call to 'cond'\u001b[0m\n",
      "    xt::linalg::cond(arr);\n",
      "\u001b[0;1;32m    ^~~~~~~~~~~~~~~~\n",
      "\u001b[0m\u001b[1m/usr/local/anaconda3/envs/py3.6/include/xtensor-blas/xlinalg.hpp:274:10: \u001b[0m\u001b[0;1;30mnote: \u001b[0mcandidate function template not viable:\n",
      "      requires 2 arguments, but 1 was\n",
      "      provided\u001b[0m\n",
      "    auto cond(const xexpression<...\n",
      "\u001b[0;1;32m         ^\n",
      "\u001b[0m\u001b[1m/usr/local/anaconda3/envs/py3.6/include/xtensor-blas/xlinalg.hpp:280:10: \u001b[0m\u001b[0;1;30mnote: \u001b[0mcandidate function template not viable:\n",
      "      requires 2 arguments, but 1 was\n",
      "      provided\u001b[0m\n",
      "    auto cond(const xexpression<...\n",
      "\u001b[0;1;32m         ^\n",
      "\u001b[0m\u001b[1minput_line_122:4:5: \u001b[0m\u001b[0;1;31merror: \u001b[0m\u001b[1mno matching function for call to 'cond'\u001b[0m\n",
      "    xt::linalg::cond(arr);\n",
      "\u001b[0;1;32m    ^~~~~~~~~~~~~~~~\n",
      "\u001b[0m\u001b[1m/usr/local/anaconda3/envs/py3.6/include/xtensor-blas/xlinalg.hpp:274:10: \u001b[0m\u001b[0;1;30mnote: \u001b[0mcandidate function template not viable:\n",
      "      requires 2 arguments, but 1 was\n",
      "      provided\u001b[0m\n",
      "    auto cond(const xexpression<...\n",
      "\u001b[0;1;32m         ^\n",
      "\u001b[0m\u001b[1m/usr/local/anaconda3/envs/py3.6/include/xtensor-blas/xlinalg.hpp:280:10: \u001b[0m\u001b[0;1;30mnote: \u001b[0mcandidate function template not viable:\n",
      "      requires 2 arguments, but 1 was\n",
      "      provided\u001b[0m\n",
      "    auto cond(const xexpression<...\n",
      "\u001b[0;1;32m         ^\n",
      "\u001b[0m\u001b[1minput_line_123:4:5: \u001b[0m\u001b[0;1;31merror: \u001b[0m\u001b[1mno matching function for call to 'cond'\u001b[0m\n",
      "    xt::linalg::cond(arr);\n",
      "\u001b[0;1;32m    ^~~~~~~~~~~~~~~~\n",
      "\u001b[0m\u001b[1m/usr/local/anaconda3/envs/py3.6/include/xtensor-blas/xlinalg.hpp:274:10: \u001b[0m\u001b[0;1;30mnote: \u001b[0mcandidate function template not viable:\n",
      "      requires 2 arguments, but 1 was\n",
      "      provided\u001b[0m\n",
      "    auto cond(const xexpression<...\n",
      "\u001b[0;1;32m         ^\n",
      "\u001b[0m\u001b[1m/usr/local/anaconda3/envs/py3.6/include/xtensor-blas/xlinalg.hpp:280:10: \u001b[0m\u001b[0;1;30mnote: \u001b[0mcandidate function template not viable:\n",
      "      requires 2 arguments, but 1 was\n",
      "      provided\u001b[0m\n",
      "    auto cond(const xexpression<...\n",
      "\u001b[0;1;32m         ^\n",
      "\u001b[0m\u001b[1minput_line_124:4:5: \u001b[0m\u001b[0;1;31merror: \u001b[0m\u001b[1mno matching function for call to 'cond'\u001b[0m\n",
      "    xt::linalg::cond(arr);\n",
      "\u001b[0;1;32m    ^~~~~~~~~~~~~~~~\n",
      "\u001b[0m\u001b[1m/usr/local/anaconda3/envs/py3.6/include/xtensor-blas/xlinalg.hpp:274:10: \u001b[0m\u001b[0;1;30mnote: \u001b[0mcandidate function template not viable:\n",
      "      requires 2 arguments, but 1 was\n",
      "      provided\u001b[0m\n",
      "    auto cond(const xexpression<...\n",
      "\u001b[0;1;32m         ^\n",
      "\u001b[0m\u001b[1m/usr/local/anaconda3/envs/py3.6/include/xtensor-blas/xlinalg.hpp:280:10: \u001b[0m\u001b[0;1;30mnote: \u001b[0mcandidate function template not viable:\n",
      "      requires 2 arguments, but 1 was\n",
      "      provided\u001b[0m\n",
      "    auto cond(const xexpression<...\n",
      "\u001b[0;1;32m         ^\n",
      "\u001b[0m\u001b[1minput_line_125:4:5: \u001b[0m\u001b[0;1;31merror: \u001b[0m\u001b[1mno matching function for call to 'cond'\u001b[0m\n",
      "    xt::linalg::cond(arr);\n",
      "\u001b[0;1;32m    ^~~~~~~~~~~~~~~~\n",
      "\u001b[0m\u001b[1m/usr/local/anaconda3/envs/py3.6/include/xtensor-blas/xlinalg.hpp:274:10: \u001b[0m\u001b[0;1;30mnote: \u001b[0mcandidate function template not viable:\n",
      "      requires 2 arguments, but 1 was\n",
      "      provided\u001b[0m\n",
      "    auto cond(const xexpression<...\n",
      "\u001b[0;1;32m         ^\n",
      "\u001b[0m\u001b[1m/usr/local/anaconda3/envs/py3.6/include/xtensor-blas/xlinalg.hpp:280:10: \u001b[0m\u001b[0;1;30mnote: \u001b[0mcandidate function template not viable:\n",
      "      requires 2 arguments, but 1 was\n",
      "      provided\u001b[0m\n",
      "    auto cond(const xexpression<...\n",
      "\u001b[0;1;32m         ^\n",
      "\u001b[0m\u001b[1minput_line_126:4:5: \u001b[0m\u001b[0;1;31merror: \u001b[0m\u001b[1mno matching function for call to 'cond'\u001b[0m\n",
      "    xt::linalg::cond(arr);\n",
      "\u001b[0;1;32m    ^~~~~~~~~~~~~~~~\n",
      "\u001b[0m\u001b[1m/usr/local/anaconda3/envs/py3.6/include/xtensor-blas/xlinalg.hpp:274:10: \u001b[0m\u001b[0;1;30mnote: \u001b[0mcandidate function template not viable:\n",
      "      requires 2 arguments, but 1 was\n",
      "      provided\u001b[0m\n",
      "    auto cond(const xexpression<...\n",
      "\u001b[0;1;32m         ^\n",
      "\u001b[0m\u001b[1m/usr/local/anaconda3/envs/py3.6/include/xtensor-blas/xlinalg.hpp:280:10: \u001b[0m\u001b[0;1;30mnote: \u001b[0mcandidate function template not viable:\n",
      "      requires 2 arguments, but 1 was\n",
      "      provided\u001b[0m\n",
      "    auto cond(const xexpression<...\n",
      "\u001b[0;1;32m         ^\n",
      "\u001b[0m\u001b[1minput_line_127:4:5: \u001b[0m\u001b[0;1;31merror: \u001b[0m\u001b[1mno matching function for call to 'cond'\u001b[0m\n",
      "    xt::linalg::cond(arr);\n",
      "\u001b[0;1;32m    ^~~~~~~~~~~~~~~~\n",
      "\u001b[0m\u001b[1m/usr/local/anaconda3/envs/py3.6/include/xtensor-blas/xlinalg.hpp:274:10: \u001b[0m\u001b[0;1;30mnote: \u001b[0mcandidate function template not viable:\n",
      "      requires 2 arguments, but 1 was\n",
      "      provided\u001b[0m\n",
      "    auto cond(const xexpression<...\n",
      "\u001b[0;1;32m         ^\n",
      "\u001b[0m\u001b[1m/usr/local/anaconda3/envs/py3.6/include/xtensor-blas/xlinalg.hpp:280:10: \u001b[0m\u001b[0;1;30mnote: \u001b[0mcandidate function template not viable:\n",
      "      requires 2 arguments, but 1 was\n",
      "      provided\u001b[0m\n",
      "    auto cond(const xexpression<...\n",
      "\u001b[0;1;32m         ^\n",
      "\u001b[0m"
     ]
    },
    {
     "name": "stdout",
     "output_type": "stream",
     "text": [
      "0 ns +- 0 ns per loop (mean +- std. dev. of 7 runs 1000000000 loops each)\n"
     ]
    }
   ],
   "source": [
    "%timeit xt::linalg::cond(arr);"
   ]
  },
  {
   "cell_type": "code",
   "execution_count": 18,
   "metadata": {},
   "outputs": [
    {
     "name": "stdout",
     "output_type": "stream",
     "text": [
      "23.7 ms +- 457 us per loop (mean +- std. dev. of 7 runs 10 loops each)\n"
     ]
    }
   ],
   "source": [
    "%timeit xt::linalg::det(arr);"
   ]
  },
  {
   "cell_type": "code",
   "execution_count": 19,
   "metadata": {},
   "outputs": [
    {
     "name": "stdout",
     "output_type": "stream",
     "text": [
      "58.3 ms +- 2.41 ms per loop (mean +- std. dev. of 7 runs 10 loops each)\n"
     ]
    }
   ],
   "source": [
    "%timeit xt::linalg::matrix_rank(arr);"
   ]
  },
  {
   "cell_type": "code",
   "execution_count": 20,
   "metadata": {},
   "outputs": [
    {
     "name": "stdout",
     "output_type": "stream",
     "text": [
      "18.8 ms +- 325 us per loop (mean +- std. dev. of 7 runs 100 loops each)\n"
     ]
    }
   ],
   "source": [
    "%timeit xt::linalg::slogdet(arr);"
   ]
  },
  {
   "cell_type": "code",
   "execution_count": 21,
   "metadata": {},
   "outputs": [
    {
     "name": "stdout",
     "output_type": "stream",
     "text": [
      "103 us +- 222 ns per loop (mean +- std. dev. of 7 runs 10000 loops each)\n"
     ]
    }
   ],
   "source": [
    "%timeit xt::linalg::trace(arr);"
   ]
  },
  {
   "cell_type": "markdown",
   "metadata": {},
   "source": [
    "## Solving equations and inverting matrices"
   ]
  },
  {
   "cell_type": "code",
   "execution_count": 22,
   "metadata": {},
   "outputs": [
    {
     "name": "stdout",
     "output_type": "stream",
     "text": [
      "21.5 ms +- 368 us per loop (mean +- std. dev. of 7 runs 10 loops each)\n"
     ]
    }
   ],
   "source": [
    "%timeit xt::linalg::inv(arr);"
   ]
  },
  {
   "cell_type": "code",
   "execution_count": 23,
   "metadata": {},
   "outputs": [
    {
     "name": "stdout",
     "output_type": "stream",
     "text": [
      "4.13 s +- 19.4 ms per loop (mean +- std. dev. of 7 runs 1 loop each)\n"
     ]
    }
   ],
   "source": [
    "%timeit xt::linalg::pinv(arr);"
   ]
  },
  {
   "cell_type": "code",
   "execution_count": 24,
   "metadata": {},
   "outputs": [
    {
     "name": "stdout",
     "output_type": "stream",
     "text": [
      "32 ms +- 465 us per loop (mean +- std. dev. of 7 runs 10 loops each)\n"
     ]
    }
   ],
   "source": [
    "%timeit xt::linalg::solve(arr, arr2);"
   ]
  },
  {
   "cell_type": "code",
   "execution_count": null,
   "metadata": {},
   "outputs": [
    {
     "name": "stderr",
     "output_type": "stream",
     "text": [
      "\u001b[1m/usr/local/anaconda3/envs/py3.6/include/xtensor-blas/xlinalg.hpp:1430:28: \u001b[0m\u001b[0;1;31merror: \u001b[0m\u001b[1mno member named 'storage' in\n",
      "      'xt::xgenerator<xt::detail::random_impl<double,\n",
      "      std::__1::mersenne_twister_engine<unsigned\n",
      "      int, 32, 624, 397, 31, 2567483615,\n",
      "      11, 4294967295, 7, 2636928640, 15,\n",
      "      4022730752, 18, 1812433253>,\n",
      "      std::__1::uniform_real_distribution<double>\n",
      "      >, double,\n",
      "      std::__1::array<unsigned long, 2>\n",
      "      >'\u001b[0m\n",
      "            std::copy(db_t.stora...\n",
      "\u001b[0;1;32m                      ~~~~ ^\n",
      "\u001b[0m\u001b[1minput_line_194:4:17: \u001b[0m\u001b[0;1;30mnote: \u001b[0min instantiation of function template\n",
      "      specialization\n",
      "      'xt::linalg::lstsq<xt::xgenerator<xt::detail::random_impl<double,\n",
      "      std::__1::mersenne_twister_engine<unsigned\n",
      "      int, 32, 624, 397, 31, 2567483615,\n",
      "      11, 4294967295, 7, 2636928640, 15,\n",
      "      4022730752, 18, 1812433253>,\n",
      "      std::__1::uniform_real_distribution<double>\n",
      "      >, double,\n",
      "      std::__1::array<unsigned long, 2>\n",
      "      >,\n",
      "      xt::xgenerator<xt::detail::random_impl<double,\n",
      "      std::__1::mersenne_twister_engine<unsigned\n",
      "      int, 32, 624, 397, 31, 2567483615,\n",
      "      11, 4294967295, 7, 2636928640, 15,\n",
      "      4022730752, 18, 1812433253>,\n",
      "      std::__1::uniform_real_distribution<double>\n",
      "      >, double,\n",
      "      std::__1::array<unsigned long, 2>\n",
      "      > >' requested here\u001b[0m\n",
      "    xt::linalg::lstsq(arr, arr2);\n",
      "\u001b[0;1;32m                ^\n",
      "\u001b[0m"
     ]
    }
   ],
   "source": [
    "%timeit xt::linalg::lstsq(arr, arr2);"
   ]
  }
 ],
 "metadata": {
  "kernelspec": {
   "display_name": "C++14",
   "language": "C++14",
   "name": "xeus-cling-cpp14"
  },
  "language_info": {
   "codemirror_mode": "text/x-c++src",
   "file_extension": ".cpp",
   "mimetype": "text/x-c++src",
   "name": "c++",
   "version": "-std=c++14"
  }
 },
 "nbformat": 4,
 "nbformat_minor": 2
}
